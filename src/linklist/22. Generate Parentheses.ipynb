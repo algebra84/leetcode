{
 "cells": [
  {
   "cell_type": "code",
   "execution_count": 16,
   "metadata": {
    "collapsed": true
   },
   "outputs": [],
   "source": [
    "class Solution(object):\n",
    "    def build_1(self,cur,result,left,right):\n",
    "        if left == 0 and right == 0:\n",
    "            if len(cur) != 0:\n",
    "                result.append(cur)\n",
    "            return\n",
    "        if left == right:\n",
    "            cur += '('\n",
    "            self.build_1(cur,result,left-1,right)\n",
    "            cur = cur[:-1]\n",
    "        elif left > 0:\n",
    "            cur+='('\n",
    "            self.build_1(cur,result,left-1,right)\n",
    "            cur = cur[:-1]\n",
    "            cur+=')'\n",
    "            self.build_1(cur,result,left,right-1)\n",
    "            cur = cur[:-1]\n",
    "        else:\n",
    "            cur += ')'\n",
    "            self.build_1(cur,result,left,right-1)\n",
    "            cur = cur[:-1]\n",
    "        return\n",
    "    def generateParenthesis(self, n):\n",
    "        \"\"\"\n",
    "        :type n: int\n",
    "        :rtype: List[str]\n",
    "        \"\"\"\n",
    "        left = n\n",
    "        right = n\n",
    "        cur = ''\n",
    "        result = []\n",
    "        self.build_1(cur,result,left,right)\n",
    "        return result"
   ]
  },
  {
   "cell_type": "code",
   "execution_count": 19,
   "metadata": {},
   "outputs": [
    {
     "name": "stdout",
     "output_type": "stream",
     "text": [
      "[]\n"
     ]
    }
   ],
   "source": [
    "s1 = Solution()\n",
    "print(s1.generateParenthesis(0))"
   ]
  },
  {
   "cell_type": "code",
   "execution_count": null,
   "metadata": {
    "collapsed": true
   },
   "outputs": [],
   "source": []
  }
 ],
 "metadata": {
  "kernelspec": {
   "display_name": "Python 2",
   "language": "python",
   "name": "python2"
  },
  "language_info": {
   "codemirror_mode": {
    "name": "ipython",
    "version": 2
   },
   "file_extension": ".py",
   "mimetype": "text/x-python",
   "name": "python",
   "nbconvert_exporter": "python",
   "pygments_lexer": "ipython2",
   "version": "2.7.6"
  }
 },
 "nbformat": 4,
 "nbformat_minor": 2
}
