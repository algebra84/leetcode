{
 "cells": [
  {
   "cell_type": "code",
   "execution_count": 23,
   "metadata": {
    "collapsed": true
   },
   "outputs": [],
   "source": [
    "def build_1(digits,index,cur,result,dist):\n",
    "    if index == len(digits):\n",
    "        if len(cur) == 0:\n",
    "            return\n",
    "        result.append(cur)\n",
    "        return\n",
    "    if digits[index] == '0' or digits[index] == '1':\n",
    "        build_1(digits,index+1,cur,result,dist)\n",
    "        return\n",
    "    for s in dist[int(digits[index])]:\n",
    "        cur = cur+s\n",
    "        build_1(digits,index+1,cur,result,dist)\n",
    "        cur = cur[:-1]\n",
    "    return\n",
    "def letterCombinations(digits):\n",
    "    cur = ''\n",
    "    dist=['','','abc','def','ghi','jkl','mno','pqrs','tuv','wxyz']\n",
    "    result = []\n",
    "    build_1(digits,0,cur,result,dist)\n",
    "    print(len(result))\n",
    "    return result"
   ]
  },
  {
   "cell_type": "code",
   "execution_count": 24,
   "metadata": {},
   "outputs": [
    {
     "name": "stdout",
     "output_type": "stream",
     "text": [
      "0\n",
      "[]\n"
     ]
    }
   ],
   "source": [
    "print(letterCombinations(''))"
   ]
  },
  {
   "cell_type": "code",
   "execution_count": null,
   "metadata": {
    "collapsed": true
   },
   "outputs": [],
   "source": []
  }
 ],
 "metadata": {
  "kernelspec": {
   "display_name": "Python 2",
   "language": "python",
   "name": "python2"
  },
  "language_info": {
   "codemirror_mode": {
    "name": "ipython",
    "version": 2
   },
   "file_extension": ".py",
   "mimetype": "text/x-python",
   "name": "python",
   "nbconvert_exporter": "python",
   "pygments_lexer": "ipython2",
   "version": "2.7.6"
  }
 },
 "nbformat": 4,
 "nbformat_minor": 2
}
