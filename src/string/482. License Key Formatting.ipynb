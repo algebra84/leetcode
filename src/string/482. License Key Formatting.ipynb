{
 "cells": [
  {
   "cell_type": "code",
   "execution_count": 18,
   "metadata": {
    "collapsed": true
   },
   "outputs": [],
   "source": [
    "def licenseKeyFormatting(S, K):\n",
    "    count = 0\n",
    "    S=S[::-1]\n",
    "    res=''\n",
    "    for c in S:\n",
    "        if c == '-':\n",
    "            continue\n",
    "        else:\n",
    "            res+=c.upper()\n",
    "            count+=1\n",
    "            if count == K:\n",
    "                res+='-'\n",
    "                count = 0\n",
    "    if len(res) == 0:\n",
    "        return res\n",
    "    if res[-1] == '-':\n",
    "        res=res[:-1]\n",
    "    return res[::-1]\n",
    "            "
   ]
  },
  {
   "cell_type": "code",
   "execution_count": 19,
   "metadata": {},
   "outputs": [
    {
     "name": "stdout",
     "output_type": "stream",
     "text": [
      "\n"
     ]
    }
   ],
   "source": [
    "print licenseKeyFormatting(\"---\",3)"
   ]
  },
  {
   "cell_type": "code",
   "execution_count": null,
   "metadata": {
    "collapsed": true
   },
   "outputs": [],
   "source": []
  }
 ],
 "metadata": {
  "kernelspec": {
   "display_name": "Python 2",
   "language": "python",
   "name": "python2"
  },
  "language_info": {
   "codemirror_mode": {
    "name": "ipython",
    "version": 2
   },
   "file_extension": ".py",
   "mimetype": "text/x-python",
   "name": "python",
   "nbconvert_exporter": "python",
   "pygments_lexer": "ipython2",
   "version": "2.7.6"
  }
 },
 "nbformat": 4,
 "nbformat_minor": 2
}
