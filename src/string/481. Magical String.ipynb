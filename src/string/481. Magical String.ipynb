{
 "cells": [
  {
   "cell_type": "code",
   "execution_count": 35,
   "metadata": {
    "collapsed": true
   },
   "outputs": [],
   "source": [
    "def magicalString(n):\n",
    "    if n == 0:\n",
    "        return 0\n",
    "    cur1=[1]\n",
    "    id1 = 0\n",
    "    count=1\n",
    "    while 1:\n",
    "        if cur1[id1] == 1:\n",
    "            if len(cur1) >= n:\n",
    "                return count\n",
    "            cur1.append(2/cur1[-1])\n",
    "            count+=int(cur1[-1]==1)\n",
    "        else:\n",
    "            if len(cur1) >= n:\n",
    "                return count\n",
    "            cur1.append(cur1[-1])\n",
    "            count+=int(cur1[-1]==1)\n",
    "            if len(cur1) >=n:\n",
    "                break;\n",
    "            cur1.append(2/cur1[-1])\n",
    "            count+=int(cur1[-1]==1)\n",
    "        id1+=1\n",
    "    return count"
   ]
  }
 ],
 "metadata": {
  "kernelspec": {
   "display_name": "Python 2",
   "language": "python",
   "name": "python2"
  },
  "language_info": {
   "codemirror_mode": {
    "name": "ipython",
    "version": 2
   },
   "file_extension": ".py",
   "mimetype": "text/x-python",
   "name": "python",
   "nbconvert_exporter": "python",
   "pygments_lexer": "ipython2",
   "version": "2.7.6"
  }
 },
 "nbformat": 4,
 "nbformat_minor": 2
}
